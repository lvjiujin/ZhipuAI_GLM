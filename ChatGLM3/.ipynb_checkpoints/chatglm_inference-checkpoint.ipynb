{
 "cells": [
  {
   "cell_type": "markdown",
   "id": "fc5bde60-1899-461d-8083-3ee04ac7c099",
   "metadata": {},
   "source": [
    "# 模型推理 - 使用 QLoRA 微调后的 ChatGLM-6B"
   ]
  },
  {
   "cell_type": "code",
   "execution_count": 1,
   "id": "3292b88c-91f0-48d2-91a5-06b0830c7e70",
   "metadata": {},
   "outputs": [
    {
     "name": "stderr",
     "output_type": "stream",
     "text": [
      "/home/vipuser/miniconda3/envs/llm/lib/python3.11/site-packages/transformers/utils/hub.py:124: FutureWarning: Using `TRANSFORMERS_CACHE` is deprecated and will be removed in v5 of Transformers. Use `HF_HOME` instead.\n",
      "  warnings.warn(\n"
     ]
    }
   ],
   "source": [
    "import torch\n",
    "from transformers import AutoModel, AutoTokenizer, BitsAndBytesConfig\n",
    "\n",
    "# 模型ID或本地路径\n",
    "model_name_or_path = '/data/chatglm3-6b'"
   ]
  },
  {
   "cell_type": "code",
   "execution_count": 2,
   "id": "9f81454c-24b2-4072-ab05-b25f9b120ae6",
   "metadata": {},
   "outputs": [
    {
     "data": {
      "application/vnd.jupyter.widget-view+json": {
       "model_id": "523549c9624d4bcb8cae8c6fcdb14879",
       "version_major": 2,
       "version_minor": 0
      },
      "text/plain": [
       "Loading checkpoint shards:   0%|          | 0/7 [00:00<?, ?it/s]"
      ]
     },
     "metadata": {},
     "output_type": "display_data"
    }
   ],
   "source": [
    "_compute_dtype_map = {\n",
    "    'fp32': torch.float32,\n",
    "    'fp16': torch.float16,\n",
    "    'bf16': torch.bfloat16\n",
    "}\n",
    "\n",
    "# QLoRA 量化配置\n",
    "q_config = BitsAndBytesConfig(load_in_4bit=True,\n",
    "                              bnb_4bit_quant_type='nf4',\n",
    "                              bnb_4bit_use_double_quant=True,\n",
    "                              bnb_4bit_compute_dtype=_compute_dtype_map['bf16'])\n",
    "\n",
    "# 加载量化后模型(与微调的 revision 保持一致）\n",
    "base_model = AutoModel.from_pretrained(model_name_or_path,\n",
    "                                      quantization_config=q_config,\n",
    "                                      device_map='auto',\n",
    "                                      trust_remote_code=True,\n",
    "                                      revision='b098244')"
   ]
  },
  {
   "cell_type": "code",
   "execution_count": 3,
   "id": "d488846f-41bb-4fe6-9f09-0f392f3b39e6",
   "metadata": {},
   "outputs": [
    {
     "data": {
      "text/plain": [
       "ChatGLMForConditionalGeneration(\n",
       "  (transformer): ChatGLMModel(\n",
       "    (embedding): Embedding(\n",
       "      (word_embeddings): Embedding(65024, 4096)\n",
       "    )\n",
       "    (rotary_pos_emb): RotaryEmbedding()\n",
       "    (encoder): GLMTransformer(\n",
       "      (layers): ModuleList(\n",
       "        (0-27): 28 x GLMBlock(\n",
       "          (input_layernorm): RMSNorm()\n",
       "          (self_attention): SelfAttention(\n",
       "            (query_key_value): Linear4bit(in_features=4096, out_features=4608, bias=True)\n",
       "            (core_attention): CoreAttention(\n",
       "              (attention_dropout): Dropout(p=0.0, inplace=False)\n",
       "            )\n",
       "            (dense): Linear4bit(in_features=4096, out_features=4096, bias=False)\n",
       "          )\n",
       "          (post_attention_layernorm): RMSNorm()\n",
       "          (mlp): MLP(\n",
       "            (dense_h_to_4h): Linear4bit(in_features=4096, out_features=27392, bias=False)\n",
       "            (dense_4h_to_h): Linear4bit(in_features=13696, out_features=4096, bias=False)\n",
       "          )\n",
       "        )\n",
       "      )\n",
       "      (final_layernorm): RMSNorm()\n",
       "    )\n",
       "    (output_layer): Linear(in_features=4096, out_features=65024, bias=False)\n",
       "  )\n",
       ")"
      ]
     },
     "execution_count": 3,
     "metadata": {},
     "output_type": "execute_result"
    }
   ],
   "source": [
    "base_model.requires_grad_(False)\n",
    "base_model.eval()"
   ]
  },
  {
   "cell_type": "code",
   "execution_count": 4,
   "id": "7e4270e2-c827-450e-bf27-7cb43a97f8f7",
   "metadata": {},
   "outputs": [
    {
     "name": "stderr",
     "output_type": "stream",
     "text": [
      "Setting eos_token is not supported, use the default one.\n",
      "Setting pad_token is not supported, use the default one.\n",
      "Setting unk_token is not supported, use the default one.\n"
     ]
    }
   ],
   "source": [
    "tokenizer = AutoTokenizer.from_pretrained(model_name_or_path,\n",
    "                                          trust_remote_code=True,\n",
    "                                          revision='b098244')"
   ]
  },
  {
   "cell_type": "markdown",
   "id": "63408b60-876e-4eda-b501-90f842cca002",
   "metadata": {},
   "source": [
    "## 使用原始 ChatGLM3-6B 模型"
   ]
  },
  {
   "cell_type": "code",
   "execution_count": 5,
   "id": "6ef405cf-7d77-41a6-a07b-c6c768ee30cf",
   "metadata": {},
   "outputs": [],
   "source": [
    "input_text = \"解释下乾卦是什么？\""
   ]
  },
  {
   "cell_type": "code",
   "execution_count": 6,
   "id": "566ed80e-828b-4105-b6e6-49de8905c991",
   "metadata": {},
   "outputs": [],
   "source": [
    "response, history = base_model.chat(tokenizer, query=input_text)"
   ]
  },
  {
   "cell_type": "code",
   "execution_count": 7,
   "id": "6cee217e-f276-4c2f-94e7-69afb6d541a6",
   "metadata": {},
   "outputs": [
    {
     "name": "stdout",
     "output_type": "stream",
     "text": [
      "乾卦是八卦之一，也是八宫图之一，其卦象是由三个阳爻夹一个阴爻构成，象征着天、云、雷等自然现象，也代表着刚强、积极、行动力等象征。乾卦的含义包括：力量、刚强、积极、行动、领导、刚正不阿、坚定等。在八卦中，乾卦具有最高的位置，代表着天地、刚强、行动和领导等特性。在五行中，乾卦代表金，与肺、皮肤、骨骼等有关。在中医中，乾卦与手太阴肺经有关，与呼吸、气机、声音等有关。\n"
     ]
    }
   ],
   "source": [
    "print(response)"
   ]
  },
  {
   "cell_type": "markdown",
   "id": "3db3245d-037d-4fe5-ac0d-cc5e82742399",
   "metadata": {},
   "source": [
    "#### 询问一个64卦相关问题（应该不在 ChatGLM3-6B 预训练数据中）"
   ]
  },
  {
   "cell_type": "code",
   "execution_count": 8,
   "id": "bbe1395f-39c2-4759-ae81-90ef3bcfae47",
   "metadata": {},
   "outputs": [
    {
     "name": "stdout",
     "output_type": "stream",
     "text": [
      "讼卦是八卦之一，也是八宫图之一，其卦象是由两个阴爻夹一个阳爻构成，象征着水、 cloud、雨等自然现象，也代表着诉讼、争端、困扰等象征。讼卦的含义包括：困扰、争端、诉讼、诉讼程序、公正、法律、规则等。在八卦中，讼卦具有较低的位置，代表着困扰、争端、诉讼等特性。在五行中，讼卦代表水，与肾脏、膀胱、耳等有关。在中医中，讼卦与足少阴肾经有关，与排泄、水液、耳等有关。\n"
     ]
    }
   ],
   "source": [
    "response, history = base_model.chat(tokenizer, query=\"周易中的讼卦是什么？\", history=history)\n",
    "print(response)"
   ]
  },
  {
   "cell_type": "code",
   "execution_count": null,
   "id": "342b3659-d644-4232-8af1-f092e733bf40",
   "metadata": {},
   "outputs": [],
   "source": []
  },
  {
   "cell_type": "markdown",
   "id": "6d23e720-dee1-4b43-a298-0cbe1d8ad11d",
   "metadata": {},
   "source": [
    "## 使用微调后的 ChatGLM3-6B"
   ]
  },
  {
   "cell_type": "markdown",
   "id": "6bcfc5a2-41ed-405c-a31c-dca4fbb67425",
   "metadata": {},
   "source": [
    "### 加载 QLoRA Adapter(Epoch=3, automade-dataset(fixed)) - 请根据训练时间戳修改 timestamp "
   ]
  },
  {
   "cell_type": "code",
   "execution_count": 10,
   "id": "9c767c67-42aa-459c-a096-e226226c359b",
   "metadata": {},
   "outputs": [],
   "source": [
    "from peft import PeftModel, PeftConfig\n",
    "\n",
    "epochs = 3\n",
    "timestamp = \"20240407_013445\"\n",
    "\n",
    "peft_model_path = f\"models/{model_name_or_path}-epoch{epochs}-{timestamp}\"\n",
    "\n",
    "config = PeftConfig.from_pretrained(peft_model_path)\n",
    "qlora_model = PeftModel.from_pretrained(base_model, peft_model_path)\n",
    "training_tag=f\"ChatGLM3-6B(Epoch=3, automade-dataset(fixed))-{timestamp}\""
   ]
  },
  {
   "cell_type": "code",
   "execution_count": 11,
   "id": "24a5d22b-2c94-4dcf-8135-18d78f98755f",
   "metadata": {},
   "outputs": [],
   "source": [
    "def compare_chatglm_results(query, base_model, qlora_model, training_tag):\n",
    "    base_response, base_history = base_model.chat(tokenizer, query)\n",
    "\n",
    "    inputs = tokenizer(query, return_tensors=\"pt\").to(0)\n",
    "    ft_out = qlora_model.generate(**inputs, max_new_tokens=512)\n",
    "    ft_response = tokenizer.decode(ft_out[0], skip_special_tokens=True)\n",
    "    \n",
    "    print(f\"问题：{query}\\n\\n原始输出：\\n{base_response}\\n\\n\\n微调后（{training_tag}）：\\n{ft_response}\")\n",
    "    return base_response, ft_response"
   ]
  },
  {
   "cell_type": "markdown",
   "id": "062cd62e-69f9-4605-8c83-e468f71ef3d3",
   "metadata": {},
   "source": [
    "### 微调前后效果对比"
   ]
  },
  {
   "cell_type": "code",
   "execution_count": 12,
   "id": "7db16cd5-0bb5-44ab-b861-d9ca6a4970c2",
   "metadata": {},
   "outputs": [
    {
     "name": "stdout",
     "output_type": "stream",
     "text": [
      "问题：解释下乾卦是什么？\n",
      "\n",
      "原始输出：\n",
      "在周易中，乾卦是六十四卦之首，由六个阳爻组成，象征着天。它所代表的是刚健、健行、刚健不屈的意境。乾卦的核心哲学是：天道刚健，运行不已，君子观此卦象，从而以天为法，自强不息。\n",
      "\n",
      "乾卦象征天，为大通而至正。得此卦者，名利双收，应把握机会，争取成果。然而，切勿过于骄傲自满，而应保持谦逊、冷静和警惕。在事业、经商、求名等方面，乾卦皆暗示着大吉大利，但也警示着必须坚持正道、修养德行，方能永远亨通。\n",
      "\n",
      "在婚恋方面，乾卦提示着阳盛阴衰，但也强调刚柔相济，相互补足，形成美满的结果。在决策方面，则是强调刚健、正直、公允，自强不息的实质，需要修养德行、坚定信念，方能克服困难，消除灾难。\n",
      "\n",
      "\n",
      "微调后（ChatGLM3-6B(Epoch=3, automade-dataset(fixed))-20240407_013445）：\n",
      "[gMASK] sop 解释下乾卦是什么？ 在周易中，乾卦是六十四卦之首，由六个阳爻组成，象征着天。它所代表的是刚健、健行、刚健不屈的意境。乾卦的核心哲学是：天道刚健，运行不已，君子观此卦象，从而以天为法，自强不息。\n",
      "\n",
      "乾卦象征天，为大通而至正。得此卦者，名利双收，应把握机会，争取成果。然而，切勿过于骄傲自满，而应保持谦逊、冷静和警惕。在事业、经商、求名等方面，乾卦皆暗示着大吉大利，但也警示着必须坚持正道、修养德行，方能永远亨通。\n",
      "\n",
      "在婚恋方面，乾卦提示着阳盛阴衰，但也强调刚柔相济，相互补足，形成美满的结果。在决策方面，则是强调刚健、正直、公允，自强不息的实质，需要修养德行、坚定信念，方能克服困难，消除灾难。\n"
     ]
    }
   ],
   "source": [
    "base_response, ft_response = compare_chatglm_results(\"解释下乾卦是什么？\", base_model, qlora_model, training_tag)"
   ]
  },
  {
   "cell_type": "code",
   "execution_count": 13,
   "id": "7aa074bd-c819-4533-a10f-f3184dc9549a",
   "metadata": {},
   "outputs": [
    {
     "name": "stdout",
     "output_type": "stream",
     "text": [
      "问题：周易中的讼卦是什么\n",
      "\n",
      "原始输出：\n",
      "在周易中，讼卦是一个充满警示的卦象。它由上卦乾（天）和下卦坎（水）组成，代表着天与水背道而驰，形成争讼的局面。虽然事情开始时有利可图，但必须警惕戒惧，因为中间虽然吉利，但最终会带来凶险。对于涉及大川，涉水渡河的行动不利。因此，君子观此卦象，应当慎之又慎，杜绝争讼之事，并在谋事之初谨慎行事。讼卦的核心哲学是要避免争讼，退而让人，求得化解，安于正理，方可避免意外之灾。在事业上，务必避免介入诉讼纠纷的争执之中，与其这样，不如退而让人。即使最终获胜，也难免得失不均。经商方面，要坚持公正、公平、互利的原则，避免冲突，这样会有好结果。而对于求名、婚恋和决策，也都需要慎重行事，避免盲目追求，退让让人，可助事业、婚姻和决策的发展。\n",
      "\n",
      "\n",
      "微调后（ChatGLM3-6B(Epoch=3, automade-dataset(fixed))-20240407_013445）：\n",
      "[gMASK] sop 周易中的讼卦是什么卦象，它是由上卦乾（天）和下卦坎（水）相叠而成。在这个卦象中，预示着 conflict and strife will arise from a dispute between the two parties. However, the outcome will not be favorable for either side, as the upper卦象征天，而天是高远无垠的，无法约束，下卦坎则象征水，代表着灵活和变化。因此, thetan（天变）卦的解释是，天变是指天地间发生的巨大变化，它意味着无法预料和控制的事件。\n",
      "\n",
      "在事业方面，预示着从事一项事业将面临巨大的困难和挫折，需要耐心和坚持，务必以德服人，方能成功。在经商方面，提示经商需要注意协作和沟通，避免冲突和 disputes。在婚恋方面，预示着爱情顺利，但需要谨慎处理。在决策方面，提示需要作出正确的选择，但务必以德服人，避免冲突和争议。\n",
      "\n",
      "总体而言，tan卦提示需要耐心和坚持，擅长沟通和合作，方能取得成功。\n"
     ]
    }
   ],
   "source": [
    "base_response, ft_response = compare_chatglm_results(\"周易中的讼卦是什么\", base_model, qlora_model, training_tag)"
   ]
  },
  {
   "cell_type": "code",
   "execution_count": 14,
   "id": "d5a31554-40f1-4e6e-8240-f207c4a61b42",
   "metadata": {},
   "outputs": [
    {
     "name": "stdout",
     "output_type": "stream",
     "text": [
      "问题：师卦是什么？\n",
      "\n",
      "原始输出：\n",
      "在周易中，师卦是一个由坎卦（水）和坤卦（地）相叠而成的异卦。这一卦象代表着军队的力量和军情的总指挥，预示着吉祥无灾。象辞中描述了地中有水的情景，寓意着君子应当像大地一样容纳和畜养大众。师卦的解释强调选择德高望重的长者来统率军队，才能获得吉祥无咎。另外，师卦也象征着困难重重，需要包容别人、艰苦努力，及时行事，严于律已。在事业、经商、求名、婚恋等方面的决策中，都需要警惕潜在敌人，小心谨慎，合作与决断兼顾，方能成功。\n",
      "\n",
      "\n",
      "微调后（ChatGLM3-6B(Epoch=3, automade-dataset(fixed))-20240407_013445）：\n",
      "[gMASK] sop 师卦是什么？ 在周易中，师卦是一个由坎卦（水）和坤卦（地）相叠而成的异卦。这一卦象代表着军队的力量和军情的总指挥，预示着吉祥无灾。象辞中描述了地中有水的情景，寓意着君子应当像大地一样容纳和畜养大众。师卦的解释强调选择德高望重的长者来统率军队，才能获得吉祥无咎。另外，师卦也象征着困难重重，需要包容别人、艰苦努力，及时行事，严于律已。在事业、经商、求名、婚恋等方面的决策中，都需要警惕潜在敌人，小心谨慎，合作与决断兼顾，方能成功。\n"
     ]
    }
   ],
   "source": [
    "base_response, ft_response = compare_chatglm_results(\"师卦是什么？\", base_model, qlora_model, training_tag)"
   ]
  },
  {
   "cell_type": "code",
   "execution_count": null,
   "id": "abae8a8e-00bb-4801-931a-c942206f0e2a",
   "metadata": {},
   "outputs": [],
   "source": []
  },
  {
   "cell_type": "markdown",
   "id": "7d48183f-f1dc-4171-b217-e269a5b9c1b9",
   "metadata": {},
   "source": [
    "## 其他模型（错误数据或训练参数）\n",
    "\n",
    "#### 加载 QLoRA Adapter(Epoch=3, automade-dataset)"
   ]
  },
  {
   "cell_type": "code",
   "execution_count": 15,
   "id": "46a0e881-a4f3-43b2-8a61-0ec543a538a7",
   "metadata": {},
   "outputs": [],
   "source": [
    "from peft import PeftModel, PeftConfig\n",
    "\n",
    "epochs = 3\n",
    "peft_model_path = f\"models/{model_name_or_path}-epoch{epochs}\"\n",
    "\n",
    "config = PeftConfig.from_pretrained(peft_model_path)\n",
    "qlora_model_e3 = PeftModel.from_pretrained(base_model, peft_model_path)\n",
    "training_tag = f\"ChatGLM3-6B(Epoch=3, automade-dataset)\""
   ]
  },
  {
   "cell_type": "code",
   "execution_count": 16,
   "id": "1f53196e-f523-4105-b04a-9ddab349cce1",
   "metadata": {},
   "outputs": [
    {
     "name": "stdout",
     "output_type": "stream",
     "text": [
      "问题：解释下乾卦是什么？\n",
      "\n",
      "原始输出：\n",
      "乾卦是周易中的一卦，代表天，象征刚健强劲，刚毅果敢，充满活力和生机。在《易经》中，乾卦代表着键字的形象，键字是由天上的龙和大地的象征结合而成的，意味着可以人力无法穿透的天然力量。\n",
      "\n",
      "在哲学领域，乾卦代表着天行健，君子自强不息的观念。在卜筮时，乾卦预示着大吉大利，事业顺利，抽象为：天行健，君子自强不息，治理大国，必先建立法则。\n",
      "\n",
      "在周易的哲学中，乾卦代表阳刚之象，具有刚健、刚毅、果敢、勇于担当的特点。在运势方面，带来积极的影响，提升人的运势，为胜运提供条件。在事业、经商、求名、婚恋等方面都有积极的作用，可以带来财富、权力和成功。\n",
      "\n",
      " summary:\n",
      "乾卦是周易中的一卦，代表天，象征刚健强劲，刚毅果敢，充满活力和生机。在《易经》中，乾卦代表着键字的形象，键字是由天上的龙和大地的象征结合而成的，意味着可以人力无法穿透的天然力量。\n",
      "\n",
      "在哲学领域，乾卦代表阳刚之象，具有刚健、刚毅、果敢、勇于担当的特点。在运势方面，带来积极的影响，提升人的运势，为胜运提供条件。在事业、经商、求名、婚恋等方面都有积极的作用，可以带来财富、权力和成功。\n",
      "\n",
      "\n",
      "微调后（ChatGLM3-6B(Epoch=3, automade-dataset)）：\n",
      "[gMASK] sop 解释下乾卦是什么？ 乾卦是周易中的一卦，代表天，具有刚健强劲的特性。它由两个乾卦叠加而成，象征着天地的广大无垠。在周易中，乾卦代表着天地的运行，以及人类社会的秩序和繁荣。在卜筮时，乾卦预示着吉祥、顺利，但同时也提醒要警惕困难和险阻。\n",
      "\n",
      "在儒家解卦中，乾卦代表刚健，健盛可以致极，但物极必反，因此提醒人们要温和对待他人，保持中庸之道。在周易的哲学中，乾卦代表刚健强劲的特性，具有強烈的精神力量，是吉利的象征。\n"
     ]
    }
   ],
   "source": [
    "base_response, ft_response = compare_chatglm_results(\"解释下乾卦是什么？\", base_model, qlora_model_e3, training_tag)"
   ]
  },
  {
   "cell_type": "code",
   "execution_count": 17,
   "id": "046306ad-6afe-4ec9-ae55-3df04f61d8f5",
   "metadata": {},
   "outputs": [
    {
     "name": "stdout",
     "output_type": "stream",
     "text": [
      "问题：地水师卦是什么？\n",
      "\n",
      "原始输出：\n",
      "地水师卦是一个由三个爻组成的卦象，由上卦（乾为天，卦象为天）下卦（坎为水）组成，卦象为天坎。上卦为阳，下卦为阴，卦象为阳阴。上卦为天，下卦为水，卦象为阳阴。上卦为阳，下卦为阴，卦象为阳阴。\n",
      "\n",
      "地水师卦的卦辞为：利见天颜，利见水中之游鱼。\n",
      "\n",
      " interpreted by the I Ching (Book of Changes):\n",
      "\n",
      "The first hexagram, called the \"Treading on Water\" or \"Mudslide\"卦, represents the principle of overcoming difficulties and achieving success. The upper trigram represents the天（heaven），the lower trigram represents the water（sea），and the middle trigram represents the top of the mountain, symbolizing the power of the situation.\n",
      "\n",
      "The I Ching also interprets the hexagram as a metaphor for the circumstances of life, suggesting that the key to success is to adapt to changing conditions and to become one with the natural world. In particular, the bottom trigram represents the flow of water, which suggests the importance of flexibility and adaptability in life.\n",
      "\n",
      "In the I Ching, the Treading on Water卦 is associated with the concept of \"yang\"（阳, active, positive），and it suggests that the circumstances of life are like a vast expanse of water that must be crossed. To succeed, one must be able to adapt to changing conditions and to become one with the natural world.\n",
      "\n",
      "\n",
      "微调后（ChatGLM3-6B(Epoch=3, automade-dataset)）：\n",
      "[gMASK] sop 地水师卦是什么？ 地水师卦是一个由三个爻组成的卦象，由上卦（乾为天，卦象为天），下卦（坎为水，卦象为水），中卦（离为火，卦象为火）。卦象组合为：上卦天，下卦水，中卦火。\n",
      "\n",
      "地水师卦的含义是：天动地摇，观者取法。\n",
      "\n",
      "这个卦象表示，天动地摇，观者取法。意味着，当卦象运动起来时，观察者应该从中寻找规律，从而得到启示。\n",
      "\n",
      "地水师卦的哲学原理是：天动地摇，观者取法。\n",
      "\n",
      "这个卦象的卦辞是：天动地摇，观者取法。\n",
      "\n",
      "这个卦象的象数是：上卦为天（1），下卦为水（0），中卦为火（3）。\n",
      "\n",
      "地水师卦的运势是：有利于求得宁静，平静，智慧，谋略。\n",
      "\n",
      "地水师卦的结局是：虽然开始时天动地摇，但最终观者可以找到规律，得到好处。\n",
      "\n",
      "总结起来，地水师卦意味着，当观察者能够从卦象中找到规律时，就能从天动地摇中获得益处。\n"
     ]
    }
   ],
   "source": [
    "base_response, ft_response = compare_chatglm_results(\"地水师卦是什么？\", base_model, qlora_model_e3, training_tag)"
   ]
  },
  {
   "cell_type": "code",
   "execution_count": 18,
   "id": "2ab3c310-8cc8-428a-91fa-964b7a58df43",
   "metadata": {},
   "outputs": [
    {
     "name": "stdout",
     "output_type": "stream",
     "text": [
      "问题：周易中的讼卦是什么\n",
      "\n",
      "原始输出：\n",
      "{'name': '讼卦\"是周易卦象中的一枚卦，由下卦坤（地）上卦坎（水）组成，预示着吉利的变化。讼卦的卦辞为：上卦坤，下卦坎，利见大人，象leg（腿）劳而无功，利导民示（示以利）道。讼卦的核心哲学是：吉利的出现依赖于键（大人）的帮助，键（大人）的出现依赖于leg（腿）的劳动，而leg（腿）的劳动又依赖于利的引导。因此，晴天出现的云彩是利的，云彩的消散是利的，大人的宴会也是利的。然而，leg（腿）的劳作却不能得到成果，这种情况就像ts象征的讼卦一样，需要避免。', 'content': '\\n讼卦的卦象和 attendant卦象都预示着顺利的观点，但ts卦象则提醒了大人的宴会是利的，但leg（腿）的劳动却不能得到成果。因此，ts卦表示键（大人）的劳动依赖于利的引导，但leg（腿）的劳作却不能得到成果。'}\n",
      "\n",
      "\n",
      "微调后（ChatGLM3-6B(Epoch=3, automade-dataset)）：\n",
      "[gMASK] sop 周易中的讼卦是什么样子 讼卦\"是周易卦象中的一枚卦，由下卦坤（地）上卦坎（水）组成，预示着吉利的变化。在讼卦中，上卦坤代表阴柔的地，下卦坎代表阳刚的水，两者相互挤压，象征着事理乖舛和争讼之象。讼卦的时运不佳，事业运亦不畅，可能面临朋友、家人或朋友的压力和冲突。\n",
      "\n",
      "讼卦提示着表面平静，内心却充满焦虑和不安。应该保持冷静，理智地处理问题，避免因情绪化而做出错误的决策。此外，讼卦还预示着财运下降，事业不宜冒险，需要谨慎行事。\n",
      "\n",
      "讼卦的时运不佳，事业运亦不畅，可能面临朋友、家人或朋友的压力和冲突。因此，在遇到问题时，应该保持冷静，理智地处理，避免因情绪化而做出错误的决策。\n"
     ]
    }
   ],
   "source": [
    "base_response, ft_response = compare_chatglm_results(\"周易中的讼卦是什么\", base_model, qlora_model_e3, training_tag)"
   ]
  },
  {
   "cell_type": "code",
   "execution_count": null,
   "id": "9cfffcc5-afa6-45c1-985a-a3eb86a0d1c8",
   "metadata": {},
   "outputs": [],
   "source": []
  },
  {
   "cell_type": "markdown",
   "id": "8169237c-55d3-4d91-9f6b-8dbe635f1844",
   "metadata": {},
   "source": [
    "#### 加载 QLoRA Adapter(Epoch=3, Overfit, handmade-dataset)"
   ]
  },
  {
   "cell_type": "code",
   "execution_count": 21,
   "id": "72e6cc4f-c030-4107-b07a-6ef44f66a4b0",
   "metadata": {},
   "outputs": [],
   "source": [
    "from peft import PeftModel, PeftConfig\n",
    "\n",
    "epochs = 3\n",
    "peft_model_path = f\"models{model_name_or_path}-epoch{epochs}\"\n",
    "\n",
    "config = PeftConfig.from_pretrained(peft_model_path)\n",
    "qlora_model_e50_handmade = PeftModel.from_pretrained(base_model, peft_model_path)\n",
    "training_tag = f\"ChatGLM3-6B(Epoch=3, handmade-dataset)\""
   ]
  },
  {
   "cell_type": "code",
   "execution_count": 22,
   "id": "8d63b187-37be-4721-8959-098d0437c41d",
   "metadata": {},
   "outputs": [
    {
     "name": "stdout",
     "output_type": "stream",
     "text": [
      "问题：解释下乾卦是什么？\n",
      "\n",
      "原始输出：\n",
      "乾卦是周易中的一卦，代表天，象征刚健强劲，刚强自主，充满活力。它由两个卦相组合而成，上卦为乾，下卦为坎， both 卦都代表着力量。\n",
      "\n",
      "在周易中，乾卦代表着天，代表着刚健强劲的特性，是六十四卦中的第一卦。它象征着力量、勇气、自信和阳光。在周易的解卦中，乾卦代表着大吉，预示着吉祥如意，表示事情将会顺利进行。\n",
      "\n",
      "在周易的象辞中，描述了乾卦的卦象，认为乾卦的卦象为天，象征着云彩聚集，然后吉利的出现。这反映了人们对于乾卦的吉祥寓意的解读。\n",
      "\n",
      "在周易的卦辞中，描述了乾卦的特性，认为乾卦具有刚健强劲的特性，代表着力量、勇气、自信和阳光。同时，也强调了乾卦预示着吉利，表示事情将会顺利进行。\n",
      "\n",
      "在周易的爻辞中，描述了乾卦的动态变化，认为乾卦的动态为阳，代表着积极向上，象征着充满活力的意义。\n",
      "\n",
      "总结起来，乾卦是周易中的一卦，代表天，象征刚健强劲，刚强自主，充满活力。它由两个卦相组合而成，上卦为乾，下卦为坎， both 卦都代表着力量。在周易的解卦中，乾卦代表着大吉，预示着吉祥如意，表示事情将会顺利进行。\n",
      "\n",
      "\n",
      "微调后（ChatGLM3-6B(Epoch=3, handmade-dataset)）：\n",
      "[gMASK] sop 解释下乾卦是什么？ 乾卦是周易中的一卦，代表天，具有刚健强劲的特性。它由两个乾卦叠加而成，象征着天地的广大无垠。在周易中，乾卦代表着天地的运行，以及人类社会的秩序和繁荣。在卜筮时，乾卦预示着吉祥、顺利，但同时也提醒要警惕困难和险阻。\n",
      "\n",
      "在儒家解卦中，乾卦代表刚健，健盛可以致极，但物极必反，因此提醒人们要温和对待他人，保持中庸之道。在周易的哲学中，乾卦代表刚健强劲的特性，具有強烈的精神力量，是吉利的象征。\n"
     ]
    }
   ],
   "source": [
    "base_response, ft_response = compare_chatglm_results(\"解释下乾卦是什么？\", base_model, qlora_model_e50_handmade, training_tag)"
   ]
  },
  {
   "cell_type": "code",
   "execution_count": 23,
   "id": "be5da80e-d1de-467f-a3bb-508d5a77a46d",
   "metadata": {},
   "outputs": [
    {
     "name": "stdout",
     "output_type": "stream",
     "text": [
      "问题：地水师卦\n",
      "\n",
      "原始输出：\n",
      "地水师卦是中国周易中的一卦，代表大地上的水流。在卦象中，上卦为乾（天），下卦为坎（水），两者相互配合，表示天地的统一。\n",
      "\n",
      "地水师卦的核心卦义是：天行健，君子 popoel活力，灵活运筹于天地之间。\n",
      "\n",
      "在卜筮时，地水师卦表示不利于行事，像坎水一样，需要避免好运，像地上的水流，不能持久静止，必须谨慎行动。\n",
      "\n",
      "综合来看，地水师卦的核心哲学是：天行健，君子 popoel活力，灵活运筹于天地之间。然而，过于箱套于习惯行事，则必败无疑。因此，必须避免好运，像地上的水流，不能持久静止，必须谨慎行动。\n",
      "\n",
      "\n",
      "微调后（ChatGLM3-6B(Epoch=3, handmade-dataset)）：\n",
      "[gMASK] sop 地水师卦象解释\n",
      "\n",
      " 地水师卦是一个由三个卦象组成的卦卦，由上卦坤（地），下卦坎（水），中卦震（雷）组成。这个卦象表示天地之间有水流，象征着人民群众的力量和活力。\n",
      "\n",
      "\n",
      "地水师卦的卦象解释如下：\n",
      "\n",
      "上卦坤（地）：代表地，代表大地，象征稳定和承载，以及众人的力量。\n",
      "\n",
      "下卦坎（水）：代表水，代表流动和变化，以及灵活性和适应性。\n",
      "\n",
      "中卦震（雷）：代表雷，象征天空，代表智慧，提示人们要倾听天道的声音。\n",
      "\n",
      "地水师卦的卦象组合代表了一个注重力量和稳定性的性格，能够团结和引导他人，但也需要注意避免过于刚硬和固执。\n"
     ]
    }
   ],
   "source": [
    "base_response, ft_response = compare_chatglm_results(\"地水师卦\", base_model, qlora_model_e50_handmade, training_tag)"
   ]
  },
  {
   "cell_type": "code",
   "execution_count": 24,
   "id": "04f0eb9a-5075-4588-914a-2538bea801aa",
   "metadata": {},
   "outputs": [
    {
     "name": "stdout",
     "output_type": "stream",
     "text": [
      "问题：天水讼卦\n",
      "\n",
      "原始输出：\n",
      "天水讼卦是一个由坎卦（水）上承坤卦（地）组成的卦象，代表诉讼案件，预示着吉凶不一的情况。在卜卦时，损卦（火）卦象出现在卦象中，这意味着卦象中火多水少，人际关系可能受到一定的损害。\n",
      "\n",
      "在好运方面，众口譽（ acid）卦象出现在卦象中，代表着群众好评，事业可取得成功。然而， Career.com指出，事业上需要谨慎行事，避免急躁冒险，以免造成不必要的损失。\n",
      "\n",
      "在事业、经商、求名、婚恋等方面，都需要谨慎行事，避免急躁冒险，以免造成不必要的损失。事业上的进展缓慢，需要耐心等待，while在事业上的进步则需要主动寻求进步。\n",
      "\n",
      "总结起来，天水讼卦预示着险象环生，事业随时可能面临不利的变化，因此，必须谨慎行事，避免急躁冒险，以免造成不必要的损失。\n",
      "\n",
      "\n",
      "微调后（ChatGLM3-6B(Epoch=3, handmade-dataset)）：\n",
      "[gMASK] sop 天水讼卦\" (Han-Shu-Gun-Ga) is a卦象卜卦的卦象，由上卦坎（水）和下卦乾（天）组成，上卦为云，下卦为天。上卦坎为险，下卦乾为刚，象征着云浮聚于天上，待时降雨之象。预示抓到俘虏，大吉大利，有利于涉水渡河。君子观此卦象，可以宴饮安乐，待时而动。\n",
      "\n",
      "这个卦象表示踌躇期待，虽然刚强，但前面有险阻，应当等待，涉大川则利。时机尚未成熟，需要耐心等待，不宜冒进。谋事应审时度势，耐心等待，切勿冒险，欲速不达。自信、坚守中正，可化险为夷。情况有利时，仍得居安思危。\n",
      "\n",
      "来源：《易经》\n"
     ]
    }
   ],
   "source": [
    "base_response, ft_response = compare_chatglm_results(\"天水讼卦\", base_model, qlora_model_e50_handmade, training_tag)"
   ]
  },
  {
   "cell_type": "code",
   "execution_count": null,
   "id": "f51c44c8-b3f7-4816-b17a-6c7cda24534e",
   "metadata": {},
   "outputs": [],
   "source": []
  }
 ],
 "metadata": {
  "kernelspec": {
   "display_name": "Python 3 (ipykernel)",
   "language": "python",
   "name": "python3"
  },
  "language_info": {
   "codemirror_mode": {
    "name": "ipython",
    "version": 3
   },
   "file_extension": ".py",
   "mimetype": "text/x-python",
   "name": "python",
   "nbconvert_exporter": "python",
   "pygments_lexer": "ipython3",
   "version": "3.10.12"
  }
 },
 "nbformat": 4,
 "nbformat_minor": 5
}
